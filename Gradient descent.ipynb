{
 "cells": [
  {
   "cell_type": "code",
   "execution_count": 1,
   "metadata": {},
   "outputs": [],
   "source": [
    "import numpy as np\n",
    "from sklearn.model_selection import train_test_split\n",
    "from sklearn.metrics import mean_squared_error\n",
    "from sklearn.base import BaseEstimator"
   ]
  },
  {
   "cell_type": "code",
   "execution_count": 2,
   "metadata": {
    "collapsed": true
   },
   "outputs": [],
   "source": [
    "class LinearReg(BaseEstimator):\n",
    "    def __init__(self, gd_type='stochastic', \n",
    "                 tolerance=1e-6, max_iter=10000, w0=None, eta=0.0001, alpha=0.001):\n",
    "        \"\"\"\n",
    "        gd_type: 'full' or 'stochastic' or 'momentum'\n",
    "        tolerance: for stopping gradient descent\n",
    "        max_iter: maximum number of steps in gradient descent\n",
    "        w0: np.array of shape (d) - init weights\n",
    "        eta: learning rate\n",
    "        alpha: momentum coefficient\n",
    "        \"\"\"\n",
    "        self.gd_type = gd_type\n",
    "        self.tolerance = tolerance\n",
    "        self.max_iter = max_iter\n",
    "        self.w0 = w0\n",
    "        self.alpha = alpha\n",
    "        self.w = None\n",
    "        self.eta = eta\n",
    "        self.loss_history = None # list of loss function values at each training iteration\n",
    "    \n",
    "    def fit(self, X, y):\n",
    "        self.loss_history = []\n",
    "        self.w = self.w0\n",
    "        iters = 0\n",
    "        euclidean = 1\n",
    "        weights_history = [self.w.copy()]\n",
    "        self.loss_history.append(self.calc_loss(X, y))\n",
    "        \n",
    "        if self.gd_type == 'full':\n",
    "            while iters < self.max_iter and euclidean > self.tolerance:\n",
    "                self.calc_gradient(X, y)\n",
    "                self.loss_history.append(self.calc_loss(X, y))\n",
    "                weights_history.append(self.w.copy())\n",
    "                euclidean = np.linalg.norm(weights_history[iters] - weights_history[iters + 1])\n",
    "                iters+=1            \n",
    "            return self\n",
    "        \n",
    "        elif self.gd_type == 'stochastic':\n",
    "            while iters < self.max_iter and euclidean > self.tolerance:\n",
    "                sample = np.random.randint(0, X.shape[0], size=batch_size)\n",
    "                X_i = X[sample].reshape(batch_size,X.shape[1])\n",
    "                y_i = y[sample].reshape(batch_size,1)\n",
    "                self.calc_gradient(X_i, y_i)\n",
    "                self.loss_history.append(self.calc_loss(X_i, y_i))\n",
    "                weights_history.append(self.w.copy())\n",
    "                euclidean = np.linalg.norm(weights_history[iters] - weights_history[iters + 1])\n",
    "                iters+=1\n",
    "            return self\n",
    "        \n",
    "        elif self.gd_type == 'momentum':\n",
    "            self.vel = 0\n",
    "            while iters < self.max_iter and euclidean > self.tolerance:\n",
    "                sample = np.random.randint(0, X.shape[0], size=batch_size)\n",
    "                X_i = X[sample].reshape(batch_size,X.shape[1])\n",
    "                y_i = y[sample].reshape(batch_size,1)\n",
    "                self.calc_gradient(X_i, y_i)\n",
    "                self.loss_history.append(self.calc_loss(X_i, y_i))\n",
    "                weights_history.append(self.w.copy())\n",
    "                euclidean = np.linalg.norm(weights_history[iters] - weights_history[iters + 1])\n",
    "                iters+=1\n",
    "            return self\n",
    "        else:\n",
    "            raise Exception(\"gd_type must be 'full' or 'stochastic' or 'momentum'\")\n",
    "                \n",
    "    def predict(self, X):\n",
    "        if self.w is None:\n",
    "            raise Exception('Not trained yet')\n",
    "        return X.dot(self.w)\n",
    "    \n",
    "    def calc_gradient(self, X, y):\n",
    "        if self.gd_type == 'momentum':\n",
    "            self.vel = 0.9 * self.vel + self.eta * np.dot(X.T, np.dot(X, self.w) - y) / len(y)\n",
    "            self.w -= self.vel\n",
    "            return self.w\n",
    "        else:\n",
    "            self.w -= 2 * self.eta * np.dot(X.T, np.dot(X, self.w) - y) / len(y)\n",
    "            return self.w\n",
    "\n",
    "    def calc_loss(self, X, y):\n",
    "        predictions = X.dot(self.w)\n",
    "        return np.mean((y-predictions)**2)"
   ]
  },
  {
   "cell_type": "markdown",
   "metadata": {},
   "source": [
    "**Проверка работы алгоритма на синтетическом датасете:**"
   ]
  },
  {
   "cell_type": "code",
   "execution_count": 3,
   "metadata": {},
   "outputs": [],
   "source": [
    "n_features = 50\n",
    "n_objects = 100000\n",
    "batch_size = 5\n",
    "\n",
    "w_real = [np.random.randint(1,10) for i in range(n_features)]\n",
    "X = 20 * np.random.rand(n_objects, n_features)\n",
    "y = X.dot(w_real) + np.random.normal(0, 1, (n_objects))\n",
    "y = y.reshape(-1,1)\n",
    "\n",
    "X_train, X_test, y_train, y_test = train_test_split(X, y, test_size=0.2, random_state = 420)"
   ]
  },
  {
   "cell_type": "code",
   "execution_count": 4,
   "metadata": {},
   "outputs": [
    {
     "name": "stdout",
     "output_type": "stream",
     "text": [
      "Full GD results:\n",
      "Test MSE = 0.9846\n",
      "Iterations taken: 1767\n",
      "Wall time: 43.6 s\n"
     ]
    }
   ],
   "source": [
    "%%time\n",
    "reg1 = LinearReg(gd_type='full')\n",
    "reg1.w0 = np.random.randn(n_features, 1)\n",
    "reg1.fit(X_train,y_train)\n",
    "y_pred = reg1.predict(X_test)\n",
    "print('Full GD results:')\n",
    "print('Test MSE = %.4f' % mean_squared_error(y_test, y_pred))\n",
    "print('Iterations taken:', len(reg1.loss_history))"
   ]
  },
  {
   "cell_type": "markdown",
   "metadata": {},
   "source": []
  },
  {
   "cell_type": "code",
   "execution_count": 5,
   "metadata": {},
   "outputs": [
    {
     "name": "stdout",
     "output_type": "stream",
     "text": [
      "SGD results:\n",
      "Test MSE = 1.0282\n",
      "Iterations taken: 10001\n",
      "Wall time: 1.05 s\n"
     ]
    }
   ],
   "source": [
    "%%time\n",
    "reg2 = LinearReg(gd_type='stochastic')\n",
    "reg2.w0 = np.random.randn(n_features, 1)\n",
    "reg2.fit(X_train,y_train)\n",
    "y_pred = reg2.predict(X_test)\n",
    "print('SGD results:')\n",
    "print('Test MSE = %.4f' % mean_squared_error(y_test, y_pred))\n",
    "print('Iterations taken:', len(reg2.loss_history))"
   ]
  },
  {
   "cell_type": "markdown",
   "metadata": {},
   "source": []
  },
  {
   "cell_type": "code",
   "execution_count": 6,
   "metadata": {},
   "outputs": [
    {
     "name": "stdout",
     "output_type": "stream",
     "text": [
      "Momentum GD results:\n",
      "Test MSE = 1.3919\n",
      "Iterations taken: 10001\n",
      "Wall time: 1.08 s\n"
     ]
    }
   ],
   "source": [
    "%%time\n",
    "reg3 = LinearReg(gd_type='momentum')\n",
    "reg3.w0 = np.random.randn(n_features, 1)\n",
    "reg3.fit(X_train, y_train)\n",
    "y_pred = reg3.predict(X_test)\n",
    "print('Momentum GD results:')\n",
    "print('Test MSE = %.4f' % mean_squared_error(y_test, y_pred))\n",
    "print('Iterations taken:', len(reg3.loss_history))"
   ]
  },
  {
   "cell_type": "code",
   "execution_count": null,
   "metadata": {},
   "outputs": [],
   "source": []
  }
 ],
 "metadata": {
  "kernelspec": {
   "display_name": "Python 3",
   "language": "python",
   "name": "python3"
  },
  "language_info": {
   "codemirror_mode": {
    "name": "ipython",
    "version": 3
   },
   "file_extension": ".py",
   "mimetype": "text/x-python",
   "name": "python",
   "nbconvert_exporter": "python",
   "pygments_lexer": "ipython3",
   "version": "3.7.3"
  }
 },
 "nbformat": 4,
 "nbformat_minor": 2
}
